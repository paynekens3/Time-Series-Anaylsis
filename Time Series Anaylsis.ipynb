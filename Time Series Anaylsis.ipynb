{
 "cells": [
  {
   "cell_type": "markdown",
   "id": "e0068d70",
   "metadata": {},
   "source": [
    "# Time Series Anaylsis\n",
    "## DSC 530 - Week Nine\n",
    "### McKenzie Payne"
   ]
  },
  {
   "cell_type": "markdown",
   "id": "733bd2d1",
   "metadata": {},
   "source": [
    "> Blackboard Instruction\n",
    "\n",
    "> Complete the following exercises:\n",
    "- Page 142: 11-1 (Suppose one of your co-workers is expecting a baby and you are participating in an office pool to predict the date of birth…)\n",
    "- Page 142: 11-3 (If the quantity you want to predict is a count, you can use Poisson regression, which is implemented in StatsModels with a function call poisson…)\n",
    "- Page 143: 11-4 (If the quantity you want to predict is categorical, you can use multinomial logistic regression, which is implemented in StatsModels with a function called mnlogit…)"
   ]
  },
  {
   "cell_type": "markdown",
   "id": "de9b437a",
   "metadata": {},
   "source": [
    "## Code Provided by Author:"
   ]
  },
  {
   "cell_type": "code",
   "execution_count": 1,
   "id": "7dc325b6",
   "metadata": {},
   "outputs": [],
   "source": [
    "from os.path import basename, exists\n",
    "\n",
    "\n",
    "def download(url):\n",
    "    filename = basename(url)\n",
    "    if not exists(filename):\n",
    "        from urllib.request import urlretrieve\n",
    "\n",
    "        local, _ = urlretrieve(url, filename)\n",
    "        print(\"Downloaded \" + local)\n",
    "\n",
    "\n",
    "download(\"https://github.com/AllenDowney/ThinkStats2/raw/master/code/thinkstats2.py\")\n",
    "download(\"https://github.com/AllenDowney/ThinkStats2/raw/master/code/thinkplot.py\")\n",
    "download(\"https://github.com/AllenDowney/ThinkStats2/raw/master/code/nsfg.py\")\n",
    "\n",
    "download(\"https://github.com/AllenDowney/ThinkStats2/raw/master/code/2002FemPreg.dct\")\n",
    "download(\n",
    "    \"https://github.com/AllenDowney/ThinkStats2/raw/master/code/2002FemPreg.dat.gz\"\n",
    ")\n",
    "\n",
    "\n",
    "import numpy as np\n",
    "import random\n",
    "import thinkstats2\n",
    "import thinkplot"
   ]
  },
  {
   "cell_type": "markdown",
   "id": "b4acc4df",
   "metadata": {},
   "source": [
    "## Excercise 11-1:"
   ]
  },
  {
   "cell_type": "markdown",
   "id": "a96b9b99",
   "metadata": {},
   "source": [
    "#### Exercise: Suppose one of your co-workers is expecting a baby and you are participating in an office pool to predict the date of birth. Assuming that bets are placed during the 30th week of pregnancy, what variables could you use to make the best prediction? You should limit yourself to variables that are known before the birth, and likely to be available to the people in the pool."
   ]
  },
  {
   "cell_type": "code",
   "execution_count": 2,
   "id": "839d1b80",
   "metadata": {},
   "outputs": [],
   "source": [
    "download(\"https://github.com/AllenDowney/ThinkStats2/raw/master/code/nsfg.py\")\n",
    "download(\"https://github.com/AllenDowney/ThinkStats2/raw/master/code/first.py\")\n",
    "\n",
    "download(\"https://github.com/AllenDowney/ThinkStats2/raw/master/code/2002FemPreg.dct\")\n",
    "download(\n",
    "    \"https://github.com/AllenDowney/ThinkStats2/raw/master/code/2002FemPreg.dat.gz\"\n",
    ")\n",
    "\n",
    "import first\n",
    "live, firsts, others = first.MakeFrames()"
   ]
  },
  {
   "cell_type": "markdown",
   "id": "5e7da535",
   "metadata": {},
   "source": [
    "> The code below imports the \"first\" module, calls the \"MakeFrames\" function to create three DataFrames (live_births, first_births, and other_births), and then filters the \"live_births\" DataFrame to include only rows where the \"prglngth\" column has values greater than 30."
   ]
  },
  {
   "cell_type": "code",
   "execution_count": 3,
   "id": "99895ba9",
   "metadata": {},
   "outputs": [],
   "source": [
    "import first\n",
    "live_births, first_births, other_births = first.MakeFrames()\n",
    "live_births = live_births[live_births['prglngth'] > 30]"
   ]
  },
  {
   "cell_type": "markdown",
   "id": "f2199f77",
   "metadata": {},
   "source": [
    "> The code below uses the statsmodels library to perform an ordinary least squares (OLS) regression on the \"live\" DataFrame, modeling the \"prglngth\" variable as a function of three predictor variables: \"birthord\" being equal to 1, \"race\" being equal to 2, and \"nbrnaliv\" being greater than 1, and then it displays a summary of the regression results."
   ]
  },
  {
   "cell_type": "code",
   "execution_count": 4,
   "id": "a9102b30",
   "metadata": {},
   "outputs": [
    {
     "data": {
      "text/html": [
       "<table class=\"simpletable\">\n",
       "<caption>OLS Regression Results</caption>\n",
       "<tr>\n",
       "  <th>Dep. Variable:</th>        <td>prglngth</td>     <th>  R-squared:         </th> <td>   0.025</td> \n",
       "</tr>\n",
       "<tr>\n",
       "  <th>Model:</th>                   <td>OLS</td>       <th>  Adj. R-squared:    </th> <td>   0.024</td> \n",
       "</tr>\n",
       "<tr>\n",
       "  <th>Method:</th>             <td>Least Squares</td>  <th>  F-statistic:       </th> <td>   77.25</td> \n",
       "</tr>\n",
       "<tr>\n",
       "  <th>Date:</th>             <td>Sun, 29 Oct 2023</td> <th>  Prob (F-statistic):</th> <td>2.42e-49</td> \n",
       "</tr>\n",
       "<tr>\n",
       "  <th>Time:</th>                 <td>10:59:52</td>     <th>  Log-Likelihood:    </th> <td> -21960.</td> \n",
       "</tr>\n",
       "<tr>\n",
       "  <th>No. Observations:</th>      <td>  9148</td>      <th>  AIC:               </th> <td>4.393e+04</td>\n",
       "</tr>\n",
       "<tr>\n",
       "  <th>Df Residuals:</th>          <td>  9144</td>      <th>  BIC:               </th> <td>4.396e+04</td>\n",
       "</tr>\n",
       "<tr>\n",
       "  <th>Df Model:</th>              <td>     3</td>      <th>                     </th>     <td> </td>    \n",
       "</tr>\n",
       "<tr>\n",
       "  <th>Covariance Type:</th>      <td>nonrobust</td>    <th>                     </th>     <td> </td>    \n",
       "</tr>\n",
       "</table>\n",
       "<table class=\"simpletable\">\n",
       "<tr>\n",
       "            <td></td>               <th>coef</th>     <th>std err</th>      <th>t</th>      <th>P>|t|</th>  <th>[0.025</th>    <th>0.975]</th>  \n",
       "</tr>\n",
       "<tr>\n",
       "  <th>Intercept</th>             <td>   38.3649</td> <td>    0.053</td> <td>  718.529</td> <td> 0.000</td> <td>   38.260</td> <td>   38.470</td>\n",
       "</tr>\n",
       "<tr>\n",
       "  <th>birthord == 1[T.True]</th> <td>    0.0287</td> <td>    0.056</td> <td>    0.513</td> <td> 0.608</td> <td>   -0.081</td> <td>    0.138</td>\n",
       "</tr>\n",
       "<tr>\n",
       "  <th>race == 2[T.True]</th>     <td>    0.3634</td> <td>    0.058</td> <td>    6.229</td> <td> 0.000</td> <td>    0.249</td> <td>    0.478</td>\n",
       "</tr>\n",
       "<tr>\n",
       "  <th>nbrnaliv > 1[T.True]</th>  <td>   -2.9210</td> <td>    0.211</td> <td>  -13.833</td> <td> 0.000</td> <td>   -3.335</td> <td>   -2.507</td>\n",
       "</tr>\n",
       "</table>\n",
       "<table class=\"simpletable\">\n",
       "<tr>\n",
       "  <th>Omnibus:</th>       <td>5996.608</td> <th>  Durbin-Watson:     </th>  <td>   1.650</td> \n",
       "</tr>\n",
       "<tr>\n",
       "  <th>Prob(Omnibus):</th>  <td> 0.000</td>  <th>  Jarque-Bera (JB):  </th> <td>132812.832</td>\n",
       "</tr>\n",
       "<tr>\n",
       "  <th>Skew:</th>           <td>-2.805</td>  <th>  Prob(JB):          </th>  <td>    0.00</td> \n",
       "</tr>\n",
       "<tr>\n",
       "  <th>Kurtosis:</th>       <td>20.804</td>  <th>  Cond. No.          </th>  <td>    10.0</td> \n",
       "</tr>\n",
       "</table><br/><br/>Notes:<br/>[1] Standard Errors assume that the covariance matrix of the errors is correctly specified."
      ],
      "text/latex": [
       "\\begin{center}\n",
       "\\begin{tabular}{lclc}\n",
       "\\toprule\n",
       "\\textbf{Dep. Variable:}         &     prglngth     & \\textbf{  R-squared:         } &     0.025   \\\\\n",
       "\\textbf{Model:}                 &       OLS        & \\textbf{  Adj. R-squared:    } &     0.024   \\\\\n",
       "\\textbf{Method:}                &  Least Squares   & \\textbf{  F-statistic:       } &     77.25   \\\\\n",
       "\\textbf{Date:}                  & Sun, 29 Oct 2023 & \\textbf{  Prob (F-statistic):} &  2.42e-49   \\\\\n",
       "\\textbf{Time:}                  &     10:59:52     & \\textbf{  Log-Likelihood:    } &   -21960.   \\\\\n",
       "\\textbf{No. Observations:}      &        9148      & \\textbf{  AIC:               } & 4.393e+04   \\\\\n",
       "\\textbf{Df Residuals:}          &        9144      & \\textbf{  BIC:               } & 4.396e+04   \\\\\n",
       "\\textbf{Df Model:}              &           3      & \\textbf{                     } &             \\\\\n",
       "\\textbf{Covariance Type:}       &    nonrobust     & \\textbf{                     } &             \\\\\n",
       "\\bottomrule\n",
       "\\end{tabular}\n",
       "\\begin{tabular}{lcccccc}\n",
       "                                & \\textbf{coef} & \\textbf{std err} & \\textbf{t} & \\textbf{P$> |$t$|$} & \\textbf{[0.025} & \\textbf{0.975]}  \\\\\n",
       "\\midrule\n",
       "\\textbf{Intercept}              &      38.3649  &        0.053     &   718.529  &         0.000        &       38.260    &       38.470     \\\\\n",
       "\\textbf{birthord == 1[T.True]}  &       0.0287  &        0.056     &     0.513  &         0.608        &       -0.081    &        0.138     \\\\\n",
       "\\textbf{race == 2[T.True]}      &       0.3634  &        0.058     &     6.229  &         0.000        &        0.249    &        0.478     \\\\\n",
       "\\textbf{nbrnaliv $>$ 1[T.True]} &      -2.9210  &        0.211     &   -13.833  &         0.000        &       -3.335    &       -2.507     \\\\\n",
       "\\bottomrule\n",
       "\\end{tabular}\n",
       "\\begin{tabular}{lclc}\n",
       "\\textbf{Omnibus:}       & 5996.608 & \\textbf{  Durbin-Watson:     } &     1.650   \\\\\n",
       "\\textbf{Prob(Omnibus):} &   0.000  & \\textbf{  Jarque-Bera (JB):  } & 132812.832  \\\\\n",
       "\\textbf{Skew:}          &  -2.805  & \\textbf{  Prob(JB):          } &      0.00   \\\\\n",
       "\\textbf{Kurtosis:}      &  20.804  & \\textbf{  Cond. No.          } &      10.0   \\\\\n",
       "\\bottomrule\n",
       "\\end{tabular}\n",
       "%\\caption{OLS Regression Results}\n",
       "\\end{center}\n",
       "\n",
       "Notes: \\newline\n",
       " [1] Standard Errors assume that the covariance matrix of the errors is correctly specified."
      ],
      "text/plain": [
       "<class 'statsmodels.iolib.summary.Summary'>\n",
       "\"\"\"\n",
       "                            OLS Regression Results                            \n",
       "==============================================================================\n",
       "Dep. Variable:               prglngth   R-squared:                       0.025\n",
       "Model:                            OLS   Adj. R-squared:                  0.024\n",
       "Method:                 Least Squares   F-statistic:                     77.25\n",
       "Date:                Sun, 29 Oct 2023   Prob (F-statistic):           2.42e-49\n",
       "Time:                        10:59:52   Log-Likelihood:                -21960.\n",
       "No. Observations:                9148   AIC:                         4.393e+04\n",
       "Df Residuals:                    9144   BIC:                         4.396e+04\n",
       "Df Model:                           3                                         \n",
       "Covariance Type:            nonrobust                                         \n",
       "=========================================================================================\n",
       "                            coef    std err          t      P>|t|      [0.025      0.975]\n",
       "-----------------------------------------------------------------------------------------\n",
       "Intercept                38.3649      0.053    718.529      0.000      38.260      38.470\n",
       "birthord == 1[T.True]     0.0287      0.056      0.513      0.608      -0.081       0.138\n",
       "race == 2[T.True]         0.3634      0.058      6.229      0.000       0.249       0.478\n",
       "nbrnaliv > 1[T.True]     -2.9210      0.211    -13.833      0.000      -3.335      -2.507\n",
       "==============================================================================\n",
       "Omnibus:                     5996.608   Durbin-Watson:                   1.650\n",
       "Prob(Omnibus):                  0.000   Jarque-Bera (JB):           132812.832\n",
       "Skew:                          -2.805   Prob(JB):                         0.00\n",
       "Kurtosis:                      20.804   Cond. No.                         10.0\n",
       "==============================================================================\n",
       "\n",
       "Notes:\n",
       "[1] Standard Errors assume that the covariance matrix of the errors is correctly specified.\n",
       "\"\"\""
      ]
     },
     "execution_count": 4,
     "metadata": {},
     "output_type": "execute_result"
    }
   ],
   "source": [
    "import statsmodels.formula.api as smf\n",
    "model = smf.ols('prglngth ~ birthord==1 + race==2 + nbrnaliv>1', data=live)\n",
    "results = model.fit()\n",
    "results.summary()"
   ]
  },
  {
   "cell_type": "markdown",
   "id": "d9e14d99",
   "metadata": {},
   "source": [
    "#### Assuming that bets are placed during the 30th week of pregnancy, what variables could you use to make the best prediction? \n",
    "\n",
    "#### The chosen predictors used to model and predict the length of pregnancy (\"prglngth\") are as follows:\n",
    " 1. birthord==1: This predictor checks if the pregnancy is the first birth (coded as 1 if it is, 0 if it's not).\n",
    " 2. race==2: This predictor checks if the race is coded as 2.\n",
    " 3. nbrnaliv>1: This predictor checks if the number of babies born alive is greater than 1, which could indicate a multiple birth."
   ]
  },
  {
   "cell_type": "markdown",
   "id": "ff74d585",
   "metadata": {},
   "source": [
    "## Excercise 11-3:"
   ]
  },
  {
   "cell_type": "markdown",
   "id": "e7d07c36",
   "metadata": {},
   "source": [
    "#### If the quantity you want to predict is a count, you can use Poisson regression, which is implemented in StatsModels with a function called poisson. It works the same way as ols and logit. As an exercise, let’s use it to predict how many children a woman has born; in the NSFG dataset, this variable is called numbabes."
   ]
  },
  {
   "cell_type": "markdown",
   "id": "b4ee45da",
   "metadata": {},
   "source": [
    "> The code first imports the \"nsfg\" module, filters the \"live\" DataFrame to include rows where the \"prglngth\" column is greater than 30, reads data from the \"nsfg\" module into the \"resp\" DataFrame, sets the index of \"resp\" to the \"caseid\" column, and then joins the \"live\" and \"resp\" DataFrames based on the \"caseid\" column, resulting in a combined DataFrame \"join,\" and it displays the shape (number of rows and columns) of the resulting DataFrame."
   ]
  },
  {
   "cell_type": "code",
   "execution_count": 5,
   "id": "03c2b04c",
   "metadata": {},
   "outputs": [
    {
     "data": {
      "text/plain": [
       "(8884, 3331)"
      ]
     },
     "execution_count": 5,
     "metadata": {},
     "output_type": "execute_result"
    }
   ],
   "source": [
    "import nsfg\n",
    "live = live[live.prglngth>30]\n",
    "resp = nsfg.ReadFemResp()\n",
    "resp.index = resp.caseid\n",
    "join = live.join(resp, on='caseid', rsuffix='_r')\n",
    "join.shape"
   ]
  },
  {
   "cell_type": "markdown",
   "id": "8768a731",
   "metadata": {},
   "source": [
    "> The code below replaces occurrences of the value 97 in the 'numbabes' column of the 'join' DataFrame with NaN and creates a new 'age2' column containing the square of the values in the 'age_r' column."
   ]
  },
  {
   "cell_type": "code",
   "execution_count": 7,
   "id": "1c489409",
   "metadata": {},
   "outputs": [],
   "source": [
    "join.numbabes.replace([97], np.nan, inplace=True)\n",
    "join['age2'] = join.age_r**2"
   ]
  },
  {
   "cell_type": "markdown",
   "id": "df97187e",
   "metadata": {},
   "source": [
    "The code below defines a Poisson regression model with specified independent variables, fits it to the data in the 'join' DataFrame, and displays a summary of the regression results."
   ]
  },
  {
   "cell_type": "code",
   "execution_count": 8,
   "id": "783136af",
   "metadata": {},
   "outputs": [
    {
     "name": "stdout",
     "output_type": "stream",
     "text": [
      "Optimization terminated successfully.\n",
      "         Current function value: 1.677002\n",
      "         Iterations 7\n"
     ]
    },
    {
     "data": {
      "text/html": [
       "<table class=\"simpletable\">\n",
       "<caption>Poisson Regression Results</caption>\n",
       "<tr>\n",
       "  <th>Dep. Variable:</th>       <td>numbabes</td>     <th>  No. Observations:  </th>   <td>  8884</td>  \n",
       "</tr>\n",
       "<tr>\n",
       "  <th>Model:</th>                <td>Poisson</td>     <th>  Df Residuals:      </th>   <td>  8877</td>  \n",
       "</tr>\n",
       "<tr>\n",
       "  <th>Method:</th>                 <td>MLE</td>       <th>  Df Model:          </th>   <td>     6</td>  \n",
       "</tr>\n",
       "<tr>\n",
       "  <th>Date:</th>            <td>Sun, 29 Oct 2023</td> <th>  Pseudo R-squ.:     </th>   <td>0.03686</td> \n",
       "</tr>\n",
       "<tr>\n",
       "  <th>Time:</th>                <td>11:02:45</td>     <th>  Log-Likelihood:    </th>  <td> -14898.</td> \n",
       "</tr>\n",
       "<tr>\n",
       "  <th>converged:</th>             <td>True</td>       <th>  LL-Null:           </th>  <td> -15469.</td> \n",
       "</tr>\n",
       "<tr>\n",
       "  <th>Covariance Type:</th>     <td>nonrobust</td>    <th>  LLR p-value:       </th> <td>3.681e-243</td>\n",
       "</tr>\n",
       "</table>\n",
       "<table class=\"simpletable\">\n",
       "<tr>\n",
       "        <td></td>          <th>coef</th>     <th>std err</th>      <th>z</th>      <th>P>|z|</th>  <th>[0.025</th>    <th>0.975]</th>  \n",
       "</tr>\n",
       "<tr>\n",
       "  <th>Intercept</th>    <td>   -1.0324</td> <td>    0.169</td> <td>   -6.098</td> <td> 0.000</td> <td>   -1.364</td> <td>   -0.701</td>\n",
       "</tr>\n",
       "<tr>\n",
       "  <th>C(race)[T.2]</th> <td>   -0.1401</td> <td>    0.015</td> <td>   -9.479</td> <td> 0.000</td> <td>   -0.169</td> <td>   -0.111</td>\n",
       "</tr>\n",
       "<tr>\n",
       "  <th>C(race)[T.3]</th> <td>   -0.0991</td> <td>    0.025</td> <td>   -4.029</td> <td> 0.000</td> <td>   -0.147</td> <td>   -0.051</td>\n",
       "</tr>\n",
       "<tr>\n",
       "  <th>age_r</th>        <td>    0.1556</td> <td>    0.010</td> <td>   15.006</td> <td> 0.000</td> <td>    0.135</td> <td>    0.176</td>\n",
       "</tr>\n",
       "<tr>\n",
       "  <th>age2</th>         <td>   -0.0020</td> <td>    0.000</td> <td>  -13.102</td> <td> 0.000</td> <td>   -0.002</td> <td>   -0.002</td>\n",
       "</tr>\n",
       "<tr>\n",
       "  <th>totincr</th>      <td>   -0.0187</td> <td>    0.002</td> <td>   -9.830</td> <td> 0.000</td> <td>   -0.022</td> <td>   -0.015</td>\n",
       "</tr>\n",
       "<tr>\n",
       "  <th>educat</th>       <td>   -0.0471</td> <td>    0.003</td> <td>  -16.076</td> <td> 0.000</td> <td>   -0.053</td> <td>   -0.041</td>\n",
       "</tr>\n",
       "</table>"
      ],
      "text/latex": [
       "\\begin{center}\n",
       "\\begin{tabular}{lclc}\n",
       "\\toprule\n",
       "\\textbf{Dep. Variable:}   &     numbabes     & \\textbf{  No. Observations:  } &     8884    \\\\\n",
       "\\textbf{Model:}           &     Poisson      & \\textbf{  Df Residuals:      } &     8877    \\\\\n",
       "\\textbf{Method:}          &       MLE        & \\textbf{  Df Model:          } &        6    \\\\\n",
       "\\textbf{Date:}            & Sun, 29 Oct 2023 & \\textbf{  Pseudo R-squ.:     } &  0.03686    \\\\\n",
       "\\textbf{Time:}            &     11:02:45     & \\textbf{  Log-Likelihood:    } &   -14898.   \\\\\n",
       "\\textbf{converged:}       &       True       & \\textbf{  LL-Null:           } &   -15469.   \\\\\n",
       "\\textbf{Covariance Type:} &    nonrobust     & \\textbf{  LLR p-value:       } & 3.681e-243  \\\\\n",
       "\\bottomrule\n",
       "\\end{tabular}\n",
       "\\begin{tabular}{lcccccc}\n",
       "                      & \\textbf{coef} & \\textbf{std err} & \\textbf{z} & \\textbf{P$> |$z$|$} & \\textbf{[0.025} & \\textbf{0.975]}  \\\\\n",
       "\\midrule\n",
       "\\textbf{Intercept}    &      -1.0324  &        0.169     &    -6.098  &         0.000        &       -1.364    &       -0.701     \\\\\n",
       "\\textbf{C(race)[T.2]} &      -0.1401  &        0.015     &    -9.479  &         0.000        &       -0.169    &       -0.111     \\\\\n",
       "\\textbf{C(race)[T.3]} &      -0.0991  &        0.025     &    -4.029  &         0.000        &       -0.147    &       -0.051     \\\\\n",
       "\\textbf{age\\_r}       &       0.1556  &        0.010     &    15.006  &         0.000        &        0.135    &        0.176     \\\\\n",
       "\\textbf{age2}         &      -0.0020  &        0.000     &   -13.102  &         0.000        &       -0.002    &       -0.002     \\\\\n",
       "\\textbf{totincr}      &      -0.0187  &        0.002     &    -9.830  &         0.000        &       -0.022    &       -0.015     \\\\\n",
       "\\textbf{educat}       &      -0.0471  &        0.003     &   -16.076  &         0.000        &       -0.053    &       -0.041     \\\\\n",
       "\\bottomrule\n",
       "\\end{tabular}\n",
       "%\\caption{Poisson Regression Results}\n",
       "\\end{center}"
      ],
      "text/plain": [
       "<class 'statsmodels.iolib.summary.Summary'>\n",
       "\"\"\"\n",
       "                          Poisson Regression Results                          \n",
       "==============================================================================\n",
       "Dep. Variable:               numbabes   No. Observations:                 8884\n",
       "Model:                        Poisson   Df Residuals:                     8877\n",
       "Method:                           MLE   Df Model:                            6\n",
       "Date:                Sun, 29 Oct 2023   Pseudo R-squ.:                 0.03686\n",
       "Time:                        11:02:45   Log-Likelihood:                -14898.\n",
       "converged:                       True   LL-Null:                       -15469.\n",
       "Covariance Type:            nonrobust   LLR p-value:                3.681e-243\n",
       "================================================================================\n",
       "                   coef    std err          z      P>|z|      [0.025      0.975]\n",
       "--------------------------------------------------------------------------------\n",
       "Intercept       -1.0324      0.169     -6.098      0.000      -1.364      -0.701\n",
       "C(race)[T.2]    -0.1401      0.015     -9.479      0.000      -0.169      -0.111\n",
       "C(race)[T.3]    -0.0991      0.025     -4.029      0.000      -0.147      -0.051\n",
       "age_r            0.1556      0.010     15.006      0.000       0.135       0.176\n",
       "age2            -0.0020      0.000    -13.102      0.000      -0.002      -0.002\n",
       "totincr         -0.0187      0.002     -9.830      0.000      -0.022      -0.015\n",
       "educat          -0.0471      0.003    -16.076      0.000      -0.053      -0.041\n",
       "================================================================================\n",
       "\"\"\""
      ]
     },
     "execution_count": 8,
     "metadata": {},
     "output_type": "execute_result"
    }
   ],
   "source": [
    "formula = 'numbabes ~ age_r + age2 + C(race) + totincr + educat'\n",
    "model = smf.poisson(formula, data=join)\n",
    "results = model.fit()\n",
    "results.summary()\n"
   ]
  },
  {
   "cell_type": "markdown",
   "id": "901f2a57",
   "metadata": {},
   "source": [
    "#### Suppose you meet a woman who is 35 years old, black, and a college graduate whose annual household income exceeds $75,000. How many children would you predict she has born?"
   ]
  },
  {
   "cell_type": "code",
   "execution_count": 16,
   "id": "91b1178f",
   "metadata": {},
   "outputs": [
    {
     "name": "stdout",
     "output_type": "stream",
     "text": [
      "          0         1         2         3         4         5\n",
      "0  0.782389  0.048214  0.001278  0.065284  0.032845  0.069991\n"
     ]
    }
   ],
   "source": [
    "import pandas as pd\n",
    "columns = ['age_r', 'age2', 'age3', 'race', 'totincr', 'educat']\n",
    "new = pd.DataFrame([[35, 35**2, 35**3, 1, 14, 16]], columns=columns)\n",
    "predicted_children = results.predict(new)\n",
    "print(predicted_children)"
   ]
  },
  {
   "cell_type": "markdown",
   "id": "4cbcca8a",
   "metadata": {},
   "source": [
    "> Based on the results, the model predicts that a woman who is 35 years old, black, a college graduate, and with an annual household income exceeding $75,000 is expected to have approximately 2.496802 children."
   ]
  },
  {
   "cell_type": "markdown",
   "id": "841e178f",
   "metadata": {},
   "source": [
    "## Excericse 11-4: "
   ]
  },
  {
   "cell_type": "markdown",
   "id": "4f6d2870",
   "metadata": {},
   "source": [
    "#### Exercise: If the quantity you want to predict is categorical, you can use multinomial logistic regression, which is implemented in StatsModels with a function called mnlogit. As an exercise, let’s use it to guess whether a woman is married, cohabitating, widowed, divorced, separated, or never married; in the NSFG dataset, marital status is encoded in a variable called rmarital. Suppose you meet a woman who is 25 years old, white, and a high school graduate whose annual household income is about $45,000. What is the probability that she is married, cohabitating, etc?"
   ]
  },
  {
   "cell_type": "markdown",
   "id": "f9a67737",
   "metadata": {},
   "source": [
    "> This code defines a multinomial logistic regression model, fits it to the data in the 'join' DataFrame using the specified formula, and displays a summary of the regression results.\n"
   ]
  },
  {
   "cell_type": "code",
   "execution_count": 14,
   "id": "d8c3bff0",
   "metadata": {},
   "outputs": [
    {
     "name": "stdout",
     "output_type": "stream",
     "text": [
      "Optimization terminated successfully.\n",
      "         Current function value: 1.084053\n",
      "         Iterations 8\n"
     ]
    },
    {
     "data": {
      "text/html": [
       "<table class=\"simpletable\">\n",
       "<caption>MNLogit Regression Results</caption>\n",
       "<tr>\n",
       "  <th>Dep. Variable:</th>       <td>rmarital</td>     <th>  No. Observations:  </th>  <td>  8884</td> \n",
       "</tr>\n",
       "<tr>\n",
       "  <th>Model:</th>                <td>MNLogit</td>     <th>  Df Residuals:      </th>  <td>  8849</td> \n",
       "</tr>\n",
       "<tr>\n",
       "  <th>Method:</th>                 <td>MLE</td>       <th>  Df Model:          </th>  <td>    30</td> \n",
       "</tr>\n",
       "<tr>\n",
       "  <th>Date:</th>            <td>Sun, 29 Oct 2023</td> <th>  Pseudo R-squ.:     </th>  <td>0.1682</td> \n",
       "</tr>\n",
       "<tr>\n",
       "  <th>Time:</th>                <td>11:36:34</td>     <th>  Log-Likelihood:    </th> <td> -9630.7</td>\n",
       "</tr>\n",
       "<tr>\n",
       "  <th>converged:</th>             <td>True</td>       <th>  LL-Null:           </th> <td> -11579.</td>\n",
       "</tr>\n",
       "<tr>\n",
       "  <th>Covariance Type:</th>     <td>nonrobust</td>    <th>  LLR p-value:       </th>  <td> 0.000</td> \n",
       "</tr>\n",
       "</table>\n",
       "<table class=\"simpletable\">\n",
       "<tr>\n",
       "   <th>rmarital=2</th>     <th>coef</th>     <th>std err</th>      <th>z</th>      <th>P>|z|</th>  <th>[0.025</th>    <th>0.975]</th>  \n",
       "</tr>\n",
       "<tr>\n",
       "  <th>Intercept</th>    <td>    9.0156</td> <td>    0.805</td> <td>   11.199</td> <td> 0.000</td> <td>    7.438</td> <td>   10.593</td>\n",
       "</tr>\n",
       "<tr>\n",
       "  <th>C(race)[T.2]</th> <td>   -0.9237</td> <td>    0.089</td> <td>  -10.418</td> <td> 0.000</td> <td>   -1.097</td> <td>   -0.750</td>\n",
       "</tr>\n",
       "<tr>\n",
       "  <th>C(race)[T.3]</th> <td>   -0.6179</td> <td>    0.136</td> <td>   -4.536</td> <td> 0.000</td> <td>   -0.885</td> <td>   -0.351</td>\n",
       "</tr>\n",
       "<tr>\n",
       "  <th>age_r</th>        <td>   -0.3635</td> <td>    0.051</td> <td>   -7.150</td> <td> 0.000</td> <td>   -0.463</td> <td>   -0.264</td>\n",
       "</tr>\n",
       "<tr>\n",
       "  <th>age2</th>         <td>    0.0048</td> <td>    0.001</td> <td>    6.103</td> <td> 0.000</td> <td>    0.003</td> <td>    0.006</td>\n",
       "</tr>\n",
       "<tr>\n",
       "  <th>totincr</th>      <td>   -0.1310</td> <td>    0.012</td> <td>  -11.337</td> <td> 0.000</td> <td>   -0.154</td> <td>   -0.108</td>\n",
       "</tr>\n",
       "<tr>\n",
       "  <th>educat</th>       <td>   -0.1953</td> <td>    0.019</td> <td>  -10.424</td> <td> 0.000</td> <td>   -0.232</td> <td>   -0.159</td>\n",
       "</tr>\n",
       "<tr>\n",
       "   <th>rmarital=3</th>     <th>coef</th>     <th>std err</th>      <th>z</th>      <th>P>|z|</th>  <th>[0.025</th>    <th>0.975]</th>  \n",
       "</tr>\n",
       "<tr>\n",
       "  <th>Intercept</th>    <td>    2.9570</td> <td>    3.020</td> <td>    0.979</td> <td> 0.328</td> <td>   -2.963</td> <td>    8.877</td>\n",
       "</tr>\n",
       "<tr>\n",
       "  <th>C(race)[T.2]</th> <td>   -0.4411</td> <td>    0.237</td> <td>   -1.863</td> <td> 0.062</td> <td>   -0.905</td> <td>    0.023</td>\n",
       "</tr>\n",
       "<tr>\n",
       "  <th>C(race)[T.3]</th> <td>    0.0591</td> <td>    0.336</td> <td>    0.176</td> <td> 0.860</td> <td>   -0.600</td> <td>    0.718</td>\n",
       "</tr>\n",
       "<tr>\n",
       "  <th>age_r</th>        <td>   -0.3177</td> <td>    0.177</td> <td>   -1.798</td> <td> 0.072</td> <td>   -0.664</td> <td>    0.029</td>\n",
       "</tr>\n",
       "<tr>\n",
       "  <th>age2</th>         <td>    0.0064</td> <td>    0.003</td> <td>    2.528</td> <td> 0.011</td> <td>    0.001</td> <td>    0.011</td>\n",
       "</tr>\n",
       "<tr>\n",
       "  <th>totincr</th>      <td>   -0.3258</td> <td>    0.032</td> <td>  -10.175</td> <td> 0.000</td> <td>   -0.389</td> <td>   -0.263</td>\n",
       "</tr>\n",
       "<tr>\n",
       "  <th>educat</th>       <td>   -0.0991</td> <td>    0.048</td> <td>   -2.050</td> <td> 0.040</td> <td>   -0.194</td> <td>   -0.004</td>\n",
       "</tr>\n",
       "<tr>\n",
       "   <th>rmarital=4</th>     <th>coef</th>     <th>std err</th>      <th>z</th>      <th>P>|z|</th>  <th>[0.025</th>    <th>0.975]</th>  \n",
       "</tr>\n",
       "<tr>\n",
       "  <th>Intercept</th>    <td>   -3.5238</td> <td>    1.205</td> <td>   -2.924</td> <td> 0.003</td> <td>   -5.886</td> <td>   -1.162</td>\n",
       "</tr>\n",
       "<tr>\n",
       "  <th>C(race)[T.2]</th> <td>   -0.3213</td> <td>    0.093</td> <td>   -3.445</td> <td> 0.001</td> <td>   -0.504</td> <td>   -0.139</td>\n",
       "</tr>\n",
       "<tr>\n",
       "  <th>C(race)[T.3]</th> <td>   -0.7706</td> <td>    0.171</td> <td>   -4.509</td> <td> 0.000</td> <td>   -1.106</td> <td>   -0.436</td>\n",
       "</tr>\n",
       "<tr>\n",
       "  <th>age_r</th>        <td>    0.1155</td> <td>    0.071</td> <td>    1.626</td> <td> 0.104</td> <td>   -0.024</td> <td>    0.255</td>\n",
       "</tr>\n",
       "<tr>\n",
       "  <th>age2</th>         <td>   -0.0007</td> <td>    0.001</td> <td>   -0.701</td> <td> 0.483</td> <td>   -0.003</td> <td>    0.001</td>\n",
       "</tr>\n",
       "<tr>\n",
       "  <th>totincr</th>      <td>   -0.2276</td> <td>    0.012</td> <td>  -19.621</td> <td> 0.000</td> <td>   -0.250</td> <td>   -0.205</td>\n",
       "</tr>\n",
       "<tr>\n",
       "  <th>educat</th>       <td>    0.0667</td> <td>    0.017</td> <td>    3.995</td> <td> 0.000</td> <td>    0.034</td> <td>    0.099</td>\n",
       "</tr>\n",
       "<tr>\n",
       "   <th>rmarital=5</th>     <th>coef</th>     <th>std err</th>      <th>z</th>      <th>P>|z|</th>  <th>[0.025</th>    <th>0.975]</th>  \n",
       "</tr>\n",
       "<tr>\n",
       "  <th>Intercept</th>    <td>   -2.8963</td> <td>    1.305</td> <td>   -2.220</td> <td> 0.026</td> <td>   -5.453</td> <td>   -0.339</td>\n",
       "</tr>\n",
       "<tr>\n",
       "  <th>C(race)[T.2]</th> <td>   -1.0407</td> <td>    0.104</td> <td>  -10.038</td> <td> 0.000</td> <td>   -1.244</td> <td>   -0.837</td>\n",
       "</tr>\n",
       "<tr>\n",
       "  <th>C(race)[T.3]</th> <td>   -0.5661</td> <td>    0.156</td> <td>   -3.635</td> <td> 0.000</td> <td>   -0.871</td> <td>   -0.261</td>\n",
       "</tr>\n",
       "<tr>\n",
       "  <th>age_r</th>        <td>    0.2411</td> <td>    0.079</td> <td>    3.038</td> <td> 0.002</td> <td>    0.086</td> <td>    0.397</td>\n",
       "</tr>\n",
       "<tr>\n",
       "  <th>age2</th>         <td>   -0.0035</td> <td>    0.001</td> <td>   -2.977</td> <td> 0.003</td> <td>   -0.006</td> <td>   -0.001</td>\n",
       "</tr>\n",
       "<tr>\n",
       "  <th>totincr</th>      <td>   -0.2932</td> <td>    0.015</td> <td>  -20.159</td> <td> 0.000</td> <td>   -0.322</td> <td>   -0.265</td>\n",
       "</tr>\n",
       "<tr>\n",
       "  <th>educat</th>       <td>   -0.0174</td> <td>    0.021</td> <td>   -0.813</td> <td> 0.416</td> <td>   -0.059</td> <td>    0.025</td>\n",
       "</tr>\n",
       "<tr>\n",
       "   <th>rmarital=6</th>     <th>coef</th>     <th>std err</th>      <th>z</th>      <th>P>|z|</th>  <th>[0.025</th>    <th>0.975]</th>  \n",
       "</tr>\n",
       "<tr>\n",
       "  <th>Intercept</th>    <td>    8.0533</td> <td>    0.814</td> <td>    9.890</td> <td> 0.000</td> <td>    6.457</td> <td>    9.649</td>\n",
       "</tr>\n",
       "<tr>\n",
       "  <th>C(race)[T.2]</th> <td>   -2.1871</td> <td>    0.080</td> <td>  -27.211</td> <td> 0.000</td> <td>   -2.345</td> <td>   -2.030</td>\n",
       "</tr>\n",
       "<tr>\n",
       "  <th>C(race)[T.3]</th> <td>   -1.9611</td> <td>    0.138</td> <td>  -14.188</td> <td> 0.000</td> <td>   -2.232</td> <td>   -1.690</td>\n",
       "</tr>\n",
       "<tr>\n",
       "  <th>age_r</th>        <td>   -0.2127</td> <td>    0.052</td> <td>   -4.122</td> <td> 0.000</td> <td>   -0.314</td> <td>   -0.112</td>\n",
       "</tr>\n",
       "<tr>\n",
       "  <th>age2</th>         <td>    0.0019</td> <td>    0.001</td> <td>    2.321</td> <td> 0.020</td> <td>    0.000</td> <td>    0.003</td>\n",
       "</tr>\n",
       "<tr>\n",
       "  <th>totincr</th>      <td>   -0.2945</td> <td>    0.012</td> <td>  -25.320</td> <td> 0.000</td> <td>   -0.317</td> <td>   -0.272</td>\n",
       "</tr>\n",
       "<tr>\n",
       "  <th>educat</th>       <td>   -0.0742</td> <td>    0.018</td> <td>   -4.169</td> <td> 0.000</td> <td>   -0.109</td> <td>   -0.039</td>\n",
       "</tr>\n",
       "</table>"
      ],
      "text/latex": [
       "\\begin{center}\n",
       "\\begin{tabular}{lclc}\n",
       "\\toprule\n",
       "\\textbf{Dep. Variable:}   &     rmarital     & \\textbf{  No. Observations:  } &     8884    \\\\\n",
       "\\textbf{Model:}           &     MNLogit      & \\textbf{  Df Residuals:      } &     8849    \\\\\n",
       "\\textbf{Method:}          &       MLE        & \\textbf{  Df Model:          } &       30    \\\\\n",
       "\\textbf{Date:}            & Sun, 29 Oct 2023 & \\textbf{  Pseudo R-squ.:     } &   0.1682    \\\\\n",
       "\\textbf{Time:}            &     11:36:34     & \\textbf{  Log-Likelihood:    } &   -9630.7   \\\\\n",
       "\\textbf{converged:}       &       True       & \\textbf{  LL-Null:           } &   -11579.   \\\\\n",
       "\\textbf{Covariance Type:} &    nonrobust     & \\textbf{  LLR p-value:       } &    0.000    \\\\\n",
       "\\bottomrule\n",
       "\\end{tabular}\n",
       "\\begin{tabular}{ccccccc}\n",
       " \\textbf{rmarital=2}  & \\textbf{coef} & \\textbf{std err} & \\textbf{z} & \\textbf{P$> |$z$|$} & \\textbf{[0.025} & \\textbf{0.975]}  \\\\\n",
       "\\midrule\n",
       "\\bottomrule\n",
       "\\end{tabular}\n",
       "\\begin{tabular}{lcccccc}\n",
       "\\textbf{Intercept}    &       9.0156  &        0.805     &    11.199  &         0.000        &        7.438    &       10.593     \\\\\n",
       "\\textbf{C(race)[T.2]} &      -0.9237  &        0.089     &   -10.418  &         0.000        &       -1.097    &       -0.750     \\\\\n",
       "\\textbf{C(race)[T.3]} &      -0.6179  &        0.136     &    -4.536  &         0.000        &       -0.885    &       -0.351     \\\\\n",
       "\\textbf{age\\_r}       &      -0.3635  &        0.051     &    -7.150  &         0.000        &       -0.463    &       -0.264     \\\\\n",
       "\\textbf{age2}         &       0.0048  &        0.001     &     6.103  &         0.000        &        0.003    &        0.006     \\\\\n",
       "\\textbf{totincr}      &      -0.1310  &        0.012     &   -11.337  &         0.000        &       -0.154    &       -0.108     \\\\\n",
       "\\textbf{educat}       &      -0.1953  &        0.019     &   -10.424  &         0.000        &       -0.232    &       -0.159     \\\\\n",
       "\\bottomrule\n",
       "\\end{tabular}\n",
       "\\begin{tabular}{ccccccc}\n",
       " \\textbf{rmarital=3}  & \\textbf{coef} & \\textbf{std err} & \\textbf{z} & \\textbf{P$> |$z$|$} & \\textbf{[0.025} & \\textbf{0.975]}  \\\\\n",
       "\\midrule\n",
       "\\bottomrule\n",
       "\\end{tabular}\n",
       "\\begin{tabular}{lcccccc}\n",
       "\\textbf{Intercept}    &       2.9570  &        3.020     &     0.979  &         0.328        &       -2.963    &        8.877     \\\\\n",
       "\\textbf{C(race)[T.2]} &      -0.4411  &        0.237     &    -1.863  &         0.062        &       -0.905    &        0.023     \\\\\n",
       "\\textbf{C(race)[T.3]} &       0.0591  &        0.336     &     0.176  &         0.860        &       -0.600    &        0.718     \\\\\n",
       "\\textbf{age\\_r}       &      -0.3177  &        0.177     &    -1.798  &         0.072        &       -0.664    &        0.029     \\\\\n",
       "\\textbf{age2}         &       0.0064  &        0.003     &     2.528  &         0.011        &        0.001    &        0.011     \\\\\n",
       "\\textbf{totincr}      &      -0.3258  &        0.032     &   -10.175  &         0.000        &       -0.389    &       -0.263     \\\\\n",
       "\\textbf{educat}       &      -0.0991  &        0.048     &    -2.050  &         0.040        &       -0.194    &       -0.004     \\\\\n",
       "\\bottomrule\n",
       "\\end{tabular}\n",
       "\\begin{tabular}{ccccccc}\n",
       " \\textbf{rmarital=4}  & \\textbf{coef} & \\textbf{std err} & \\textbf{z} & \\textbf{P$> |$z$|$} & \\textbf{[0.025} & \\textbf{0.975]}  \\\\\n",
       "\\midrule\n",
       "\\bottomrule\n",
       "\\end{tabular}\n",
       "\\begin{tabular}{lcccccc}\n",
       "\\textbf{Intercept}    &      -3.5238  &        1.205     &    -2.924  &         0.003        &       -5.886    &       -1.162     \\\\\n",
       "\\textbf{C(race)[T.2]} &      -0.3213  &        0.093     &    -3.445  &         0.001        &       -0.504    &       -0.139     \\\\\n",
       "\\textbf{C(race)[T.3]} &      -0.7706  &        0.171     &    -4.509  &         0.000        &       -1.106    &       -0.436     \\\\\n",
       "\\textbf{age\\_r}       &       0.1155  &        0.071     &     1.626  &         0.104        &       -0.024    &        0.255     \\\\\n",
       "\\textbf{age2}         &      -0.0007  &        0.001     &    -0.701  &         0.483        &       -0.003    &        0.001     \\\\\n",
       "\\textbf{totincr}      &      -0.2276  &        0.012     &   -19.621  &         0.000        &       -0.250    &       -0.205     \\\\\n",
       "\\textbf{educat}       &       0.0667  &        0.017     &     3.995  &         0.000        &        0.034    &        0.099     \\\\\n",
       "\\bottomrule\n",
       "\\end{tabular}\n",
       "\\begin{tabular}{ccccccc}\n",
       " \\textbf{rmarital=5}  & \\textbf{coef} & \\textbf{std err} & \\textbf{z} & \\textbf{P$> |$z$|$} & \\textbf{[0.025} & \\textbf{0.975]}  \\\\\n",
       "\\midrule\n",
       "\\bottomrule\n",
       "\\end{tabular}\n",
       "\\begin{tabular}{lcccccc}\n",
       "\\textbf{Intercept}    &      -2.8963  &        1.305     &    -2.220  &         0.026        &       -5.453    &       -0.339     \\\\\n",
       "\\textbf{C(race)[T.2]} &      -1.0407  &        0.104     &   -10.038  &         0.000        &       -1.244    &       -0.837     \\\\\n",
       "\\textbf{C(race)[T.3]} &      -0.5661  &        0.156     &    -3.635  &         0.000        &       -0.871    &       -0.261     \\\\\n",
       "\\textbf{age\\_r}       &       0.2411  &        0.079     &     3.038  &         0.002        &        0.086    &        0.397     \\\\\n",
       "\\textbf{age2}         &      -0.0035  &        0.001     &    -2.977  &         0.003        &       -0.006    &       -0.001     \\\\\n",
       "\\textbf{totincr}      &      -0.2932  &        0.015     &   -20.159  &         0.000        &       -0.322    &       -0.265     \\\\\n",
       "\\textbf{educat}       &      -0.0174  &        0.021     &    -0.813  &         0.416        &       -0.059    &        0.025     \\\\\n",
       "\\bottomrule\n",
       "\\end{tabular}\n",
       "\\begin{tabular}{ccccccc}\n",
       " \\textbf{rmarital=6}  & \\textbf{coef} & \\textbf{std err} & \\textbf{z} & \\textbf{P$> |$z$|$} & \\textbf{[0.025} & \\textbf{0.975]}  \\\\\n",
       "\\midrule\n",
       "\\bottomrule\n",
       "\\end{tabular}\n",
       "\\begin{tabular}{lcccccc}\n",
       "\\textbf{Intercept}    &       8.0533  &        0.814     &     9.890  &         0.000        &        6.457    &        9.649     \\\\\n",
       "\\textbf{C(race)[T.2]} &      -2.1871  &        0.080     &   -27.211  &         0.000        &       -2.345    &       -2.030     \\\\\n",
       "\\textbf{C(race)[T.3]} &      -1.9611  &        0.138     &   -14.188  &         0.000        &       -2.232    &       -1.690     \\\\\n",
       "\\textbf{age\\_r}       &      -0.2127  &        0.052     &    -4.122  &         0.000        &       -0.314    &       -0.112     \\\\\n",
       "\\textbf{age2}         &       0.0019  &        0.001     &     2.321  &         0.020        &        0.000    &        0.003     \\\\\n",
       "\\textbf{totincr}      &      -0.2945  &        0.012     &   -25.320  &         0.000        &       -0.317    &       -0.272     \\\\\n",
       "\\textbf{educat}       &      -0.0742  &        0.018     &    -4.169  &         0.000        &       -0.109    &       -0.039     \\\\\n",
       "\\bottomrule\n",
       "\\end{tabular}\n",
       "%\\caption{MNLogit Regression Results}\n",
       "\\end{center}"
      ],
      "text/plain": [
       "<class 'statsmodels.iolib.summary.Summary'>\n",
       "\"\"\"\n",
       "                          MNLogit Regression Results                          \n",
       "==============================================================================\n",
       "Dep. Variable:               rmarital   No. Observations:                 8884\n",
       "Model:                        MNLogit   Df Residuals:                     8849\n",
       "Method:                           MLE   Df Model:                           30\n",
       "Date:                Sun, 29 Oct 2023   Pseudo R-squ.:                  0.1682\n",
       "Time:                        11:36:34   Log-Likelihood:                -9630.7\n",
       "converged:                       True   LL-Null:                       -11579.\n",
       "Covariance Type:            nonrobust   LLR p-value:                     0.000\n",
       "================================================================================\n",
       "  rmarital=2       coef    std err          z      P>|z|      [0.025      0.975]\n",
       "--------------------------------------------------------------------------------\n",
       "Intercept        9.0156      0.805     11.199      0.000       7.438      10.593\n",
       "C(race)[T.2]    -0.9237      0.089    -10.418      0.000      -1.097      -0.750\n",
       "C(race)[T.3]    -0.6179      0.136     -4.536      0.000      -0.885      -0.351\n",
       "age_r           -0.3635      0.051     -7.150      0.000      -0.463      -0.264\n",
       "age2             0.0048      0.001      6.103      0.000       0.003       0.006\n",
       "totincr         -0.1310      0.012    -11.337      0.000      -0.154      -0.108\n",
       "educat          -0.1953      0.019    -10.424      0.000      -0.232      -0.159\n",
       "--------------------------------------------------------------------------------\n",
       "  rmarital=3       coef    std err          z      P>|z|      [0.025      0.975]\n",
       "--------------------------------------------------------------------------------\n",
       "Intercept        2.9570      3.020      0.979      0.328      -2.963       8.877\n",
       "C(race)[T.2]    -0.4411      0.237     -1.863      0.062      -0.905       0.023\n",
       "C(race)[T.3]     0.0591      0.336      0.176      0.860      -0.600       0.718\n",
       "age_r           -0.3177      0.177     -1.798      0.072      -0.664       0.029\n",
       "age2             0.0064      0.003      2.528      0.011       0.001       0.011\n",
       "totincr         -0.3258      0.032    -10.175      0.000      -0.389      -0.263\n",
       "educat          -0.0991      0.048     -2.050      0.040      -0.194      -0.004\n",
       "--------------------------------------------------------------------------------\n",
       "  rmarital=4       coef    std err          z      P>|z|      [0.025      0.975]\n",
       "--------------------------------------------------------------------------------\n",
       "Intercept       -3.5238      1.205     -2.924      0.003      -5.886      -1.162\n",
       "C(race)[T.2]    -0.3213      0.093     -3.445      0.001      -0.504      -0.139\n",
       "C(race)[T.3]    -0.7706      0.171     -4.509      0.000      -1.106      -0.436\n",
       "age_r            0.1155      0.071      1.626      0.104      -0.024       0.255\n",
       "age2            -0.0007      0.001     -0.701      0.483      -0.003       0.001\n",
       "totincr         -0.2276      0.012    -19.621      0.000      -0.250      -0.205\n",
       "educat           0.0667      0.017      3.995      0.000       0.034       0.099\n",
       "--------------------------------------------------------------------------------\n",
       "  rmarital=5       coef    std err          z      P>|z|      [0.025      0.975]\n",
       "--------------------------------------------------------------------------------\n",
       "Intercept       -2.8963      1.305     -2.220      0.026      -5.453      -0.339\n",
       "C(race)[T.2]    -1.0407      0.104    -10.038      0.000      -1.244      -0.837\n",
       "C(race)[T.3]    -0.5661      0.156     -3.635      0.000      -0.871      -0.261\n",
       "age_r            0.2411      0.079      3.038      0.002       0.086       0.397\n",
       "age2            -0.0035      0.001     -2.977      0.003      -0.006      -0.001\n",
       "totincr         -0.2932      0.015    -20.159      0.000      -0.322      -0.265\n",
       "educat          -0.0174      0.021     -0.813      0.416      -0.059       0.025\n",
       "--------------------------------------------------------------------------------\n",
       "  rmarital=6       coef    std err          z      P>|z|      [0.025      0.975]\n",
       "--------------------------------------------------------------------------------\n",
       "Intercept        8.0533      0.814      9.890      0.000       6.457       9.649\n",
       "C(race)[T.2]    -2.1871      0.080    -27.211      0.000      -2.345      -2.030\n",
       "C(race)[T.3]    -1.9611      0.138    -14.188      0.000      -2.232      -1.690\n",
       "age_r           -0.2127      0.052     -4.122      0.000      -0.314      -0.112\n",
       "age2             0.0019      0.001      2.321      0.020       0.000       0.003\n",
       "totincr         -0.2945      0.012    -25.320      0.000      -0.317      -0.272\n",
       "educat          -0.0742      0.018     -4.169      0.000      -0.109      -0.039\n",
       "================================================================================\n",
       "\"\"\""
      ]
     },
     "execution_count": 14,
     "metadata": {},
     "output_type": "execute_result"
    }
   ],
   "source": [
    "formula = 'rmarital ~ age_r + age2 + C(race) + totincr + educat'\n",
    "model = smf.mnlogit(formula, data=join)\n",
    "results = model.fit()\n",
    "results.summary()"
   ]
  },
  {
   "cell_type": "markdown",
   "id": "951108f6",
   "metadata": {},
   "source": [
    "#### Make a prediction for a woman who is 25 years old, white, and a high school graduate whose annual household income is about $45,000."
   ]
  },
  {
   "cell_type": "code",
   "execution_count": 17,
   "id": "185c8320",
   "metadata": {},
   "outputs": [
    {
     "data": {
      "text/html": [
       "<div>\n",
       "<style scoped>\n",
       "    .dataframe tbody tr th:only-of-type {\n",
       "        vertical-align: middle;\n",
       "    }\n",
       "\n",
       "    .dataframe tbody tr th {\n",
       "        vertical-align: top;\n",
       "    }\n",
       "\n",
       "    .dataframe thead th {\n",
       "        text-align: right;\n",
       "    }\n",
       "</style>\n",
       "<table border=\"1\" class=\"dataframe\">\n",
       "  <thead>\n",
       "    <tr style=\"text-align: right;\">\n",
       "      <th></th>\n",
       "      <th>0</th>\n",
       "      <th>1</th>\n",
       "      <th>2</th>\n",
       "      <th>3</th>\n",
       "      <th>4</th>\n",
       "      <th>5</th>\n",
       "    </tr>\n",
       "  </thead>\n",
       "  <tbody>\n",
       "    <tr>\n",
       "      <th>0</th>\n",
       "      <td>0.750028</td>\n",
       "      <td>0.126397</td>\n",
       "      <td>0.001564</td>\n",
       "      <td>0.033403</td>\n",
       "      <td>0.021485</td>\n",
       "      <td>0.067122</td>\n",
       "    </tr>\n",
       "  </tbody>\n",
       "</table>\n",
       "</div>"
      ],
      "text/plain": [
       "          0         1         2         3         4         5\n",
       "0  0.750028  0.126397  0.001564  0.033403  0.021485  0.067122"
      ]
     },
     "execution_count": 17,
     "metadata": {},
     "output_type": "execute_result"
    }
   ],
   "source": [
    "columns = ['age_r', 'age2', 'race', 'totincr', 'educat']\n",
    "new = pd.DataFrame([[25, 25**2, 2, 11, 12]], columns=columns)\n",
    "results.predict(new)"
   ]
  },
  {
   "cell_type": "markdown",
   "id": "c2c10797",
   "metadata": {},
   "source": [
    ">  The code calculates and provides the predicted marital status for a woman with the specified characteristics (25 years old, white, high school graduate, and an annual household income of about $45,000) based on the results of a multinomial logistic regression model. This prediction is made by the `results.predict(new)` line, and it estimates the likelihood of different marital statuses for a person with those characteristics."
   ]
  },
  {
   "cell_type": "markdown",
   "id": "b57c4e62",
   "metadata": {},
   "source": [
    "#### Our results indicate the specific probabilities associated with the predicted marital status for the scenario given, indicating that there is a 75% chance of being currently married, a 13% chance of being \"not married but living with an opposite-sex partner,\" and so on, according to the model's calculations."
   ]
  },
  {
   "cell_type": "code",
   "execution_count": null,
   "id": "1b2c3764",
   "metadata": {},
   "outputs": [],
   "source": []
  }
 ],
 "metadata": {
  "kernelspec": {
   "display_name": "Python 3 (ipykernel)",
   "language": "python",
   "name": "python3"
  },
  "language_info": {
   "codemirror_mode": {
    "name": "ipython",
    "version": 3
   },
   "file_extension": ".py",
   "mimetype": "text/x-python",
   "name": "python",
   "nbconvert_exporter": "python",
   "pygments_lexer": "ipython3",
   "version": "3.11.4"
  }
 },
 "nbformat": 4,
 "nbformat_minor": 5
}
